{
 "cells": [
  {
   "cell_type": "code",
   "execution_count": 2,
   "id": "45d6eee8",
   "metadata": {},
   "outputs": [],
   "source": [
    "chat='''AFAIK=As Far As I Know\n",
    "    AFK=Away From Keyboard\n",
    "    ASAP=As Soon As Possible\n",
    "    ATK=At The Keyboard\n",
    "    ATM=At The Moment\n",
    "    A3=Anytime, Anywhere, Anyplace\n",
    "    BAK=Back At Keyboard\n",
    "    BBL=Be Back Later\n",
    "    BBS=Be Back Soon\n",
    "    BFN=Bye For Now\n",
    "    B4N=Bye For Now\n",
    "    BRB=Be Right Back\n",
    "    BRT=Be Right There\n",
    "    BTW=By The Way\n",
    "    B4=Before\n",
    "    B4N=Bye For Now\n",
    "    CU=See You\n",
    "    CUL8R=See You Later\n",
    "    CYA=See You\n",
    "    FAQ=Frequently Asked Questions\n",
    "    FC=Fingers Crossed\n",
    "    FWIW=For What It's Worth\n",
    "    FYI=For Your Information\n",
    "    GAL=Get A Life\n",
    "    GG=Good Game\n",
    "    GN=Good Night\n",
    "    GMTA=Great Minds Think Alike\n",
    "    GR8=Great!\n",
    "    G9=Genius\n",
    "    IC=I See\n",
    "    ICQ=I Seek you (also a chat program)\n",
    "    ILU=ILU: I Love You\n",
    "    IMHO=In My Honest/Humble Opinion\n",
    "    IMO=In My Opinion\n",
    "    IOW=In Other Words\n",
    "    IRL=In Real Life\n",
    "    KISS=Keep It Simple, Stupid\n",
    "    LDR=Long Distance Relationship\n",
    "    LMAO=Laugh My A.. Off\n",
    "    LOL=Laughing Out Loud\n",
    "    LTNS=Long Time No See\n",
    "    L8R=Later\n",
    "    MTE=My Thoughts Exactly\n",
    "    M8=Mate\n",
    "    NRN=No Reply Necessary\n",
    "    OIC=Oh I See\n",
    "    PITA=Pain In The A..\n",
    "    PRT=Party\n",
    "    PRW=Parents Are Watching\n",
    "    QPSA?=Que Pasa?\n",
    "    ROFL=Rolling On The Floor Laughing\n",
    "    ROFLOL=Rolling On The Floor Laughing Out Loud\n",
    "    ROTFLMAO=Rolling On The Floor Laughing My A.. Off\n",
    "    SK8=Skate\n",
    "    STATS=Your sex and age\n",
    "    ASL=Age, Sex, Location\n",
    "    THX=Thank You\n",
    "    TTFN=Ta-Ta For Now!\n",
    "    TTYL=Talk To You Later\n",
    "    U=You\n",
    "    U2=You Too\n",
    "    U4E=Yours For Ever\n",
    "    WB=Welcome Back\n",
    "    WTF=What The F...\n",
    "    WTG=Way To Go!\n",
    "    WUF=Where Are You From?\n",
    "    W8=Wait...\n",
    "    7K=Sick:-D Laugher'''"
   ]
  },
  {
   "cell_type": "code",
   "execution_count": 3,
   "id": "82f0808c",
   "metadata": {},
   "outputs": [],
   "source": [
    "Dict = dict((x.strip(), y.strip()) \n",
    "             for x, y in (element.split('=') \n",
    "             for element in chat.split('\\n ')))"
   ]
  },
  {
   "cell_type": "code",
   "execution_count": 4,
   "id": "20a49cdb",
   "metadata": {},
   "outputs": [
    {
     "name": "stdout",
     "output_type": "stream",
     "text": [
      "{'AFAIK': 'As Far As I Know', 'AFK': 'Away From Keyboard', 'ASAP': 'As Soon As Possible', 'ATK': 'At The Keyboard', 'ATM': 'At The Moment', 'A3': 'Anytime, Anywhere, Anyplace', 'BAK': 'Back At Keyboard', 'BBL': 'Be Back Later', 'BBS': 'Be Back Soon', 'BFN': 'Bye For Now', 'B4N': 'Bye For Now', 'BRB': 'Be Right Back', 'BRT': 'Be Right There', 'BTW': 'By The Way', 'B4': 'Before', 'CU': 'See You', 'CUL8R': 'See You Later', 'CYA': 'See You', 'FAQ': 'Frequently Asked Questions', 'FC': 'Fingers Crossed', 'FWIW': \"For What It's Worth\", 'FYI': 'For Your Information', 'GAL': 'Get A Life', 'GG': 'Good Game', 'GN': 'Good Night', 'GMTA': 'Great Minds Think Alike', 'GR8': 'Great!', 'G9': 'Genius', 'IC': 'I See', 'ICQ': 'I Seek you (also a chat program)', 'ILU': 'ILU: I Love You', 'IMHO': 'In My Honest/Humble Opinion', 'IMO': 'In My Opinion', 'IOW': 'In Other Words', 'IRL': 'In Real Life', 'KISS': 'Keep It Simple, Stupid', 'LDR': 'Long Distance Relationship', 'LMAO': 'Laugh My A.. Off', 'LOL': 'Laughing Out Loud', 'LTNS': 'Long Time No See', 'L8R': 'Later', 'MTE': 'My Thoughts Exactly', 'M8': 'Mate', 'NRN': 'No Reply Necessary', 'OIC': 'Oh I See', 'PITA': 'Pain In The A..', 'PRT': 'Party', 'PRW': 'Parents Are Watching', 'QPSA?': 'Que Pasa?', 'ROFL': 'Rolling On The Floor Laughing', 'ROFLOL': 'Rolling On The Floor Laughing Out Loud', 'ROTFLMAO': 'Rolling On The Floor Laughing My A.. Off', 'SK8': 'Skate', 'STATS': 'Your sex and age', 'ASL': 'Age, Sex, Location', 'THX': 'Thank You', 'TTFN': 'Ta-Ta For Now!', 'TTYL': 'Talk To You Later', 'U': 'You', 'U2': 'You Too', 'U4E': 'Yours For Ever', 'WB': 'Welcome Back', 'WTF': 'What The F...', 'WTG': 'Way To Go!', 'WUF': 'Where Are You From?', 'W8': 'Wait...', '7K': 'Sick:-D Laugher'}\n"
     ]
    }
   ],
   "source": [
    "print(Dict)"
   ]
  },
  {
   "cell_type": "code",
   "execution_count": null,
   "id": "55f5e397",
   "metadata": {},
   "outputs": [],
   "source": []
  }
 ],
 "metadata": {
  "kernelspec": {
   "display_name": "Python 3",
   "language": "python",
   "name": "python3"
  },
  "language_info": {
   "codemirror_mode": {
    "name": "ipython",
    "version": 3
   },
   "file_extension": ".py",
   "mimetype": "text/x-python",
   "name": "python",
   "nbconvert_exporter": "python",
   "pygments_lexer": "ipython3",
   "version": "3.8.8"
  }
 },
 "nbformat": 4,
 "nbformat_minor": 5
}
